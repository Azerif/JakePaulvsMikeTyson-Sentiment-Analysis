{
 "cells": [
  {
   "cell_type": "markdown",
   "metadata": {},
   "source": [
    "## Import library"
   ]
  },
  {
   "cell_type": "code",
   "execution_count": 26,
   "metadata": {},
   "outputs": [],
   "source": [
    "import numpy as np\n",
    "import tensorflow as tf\n",
    "from tensorflow.keras.preprocessing.sequence import pad_sequences\n",
    "import pickle"
   ]
  },
  {
   "cell_type": "markdown",
   "metadata": {},
   "source": [
    "## Load Model"
   ]
  },
  {
   "cell_type": "code",
   "execution_count": 27,
   "metadata": {},
   "outputs": [],
   "source": [
    "path = 'model_and_pickle/'\n",
    "# Load Model 1: RNN + Embedding (Skema 1)\n",
    "model_rnn = tf.keras.models.load_model(path + 'model1_RNN_embedding.keras')\n",
    "\n",
    "# Load Model 2: CNN + Trainable Embedding (Skema 2)\n",
    "model_cnn = tf.keras.models.load_model(path + 'model2_CNN_embedding.keras')\n",
    "\n",
    "# Load Model 3: Logistic Regression + TF-IDF (Skema 3)\n",
    "with open(path + 'model3_logistic_regression_TFIDF.pkl', 'rb') as f:\n",
    "    model_logistic = pickle.load(f)\n",
    "\n",
    "# Load tokenizer for RNN & CNN\n",
    "with open(path + 'tokenizer.pkl', 'rb') as handle:\n",
    "    tokenizer = pickle.load(handle)\n",
    "\n",
    "# Load TF-IDF vectorizer for Logistic Regression\n",
    "with open(path + 'tfidf_vectorizer.pkl', 'rb') as f:\n",
    "    vectorizer = pickle.load(f)\n",
    "\n",
    "with open(path + 'label_encoder.pkl', 'rb') as f:\n",
    "    label_encoder = pickle.load(f)"
   ]
  },
  {
   "cell_type": "markdown",
   "metadata": {},
   "source": [
    "## Predict"
   ]
  },
  {
   "cell_type": "code",
   "execution_count": 28,
   "metadata": {},
   "outputs": [],
   "source": [
    "def predict_with_dl(model, text):\n",
    "    \"\"\"Inference menggunakan model deep learning (RNN atau CNN)\"\"\"\n",
    "    sequence = tokenizer.texts_to_sequences([text])\n",
    "    padded_sequence = pad_sequences(sequence, maxlen=100)\n",
    "    prediction = model.predict(padded_sequence)\n",
    "    predicted_class = np.argmax(prediction)\n",
    "    return label_encoder.inverse_transform([predicted_class])[0]\n",
    "\n",
    "def predict_with_logistic(text):\n",
    "    \"\"\"Inference menggunakan Logistic Regression + TF-IDF\"\"\"\n",
    "    text_tfidf = vectorizer.transform([text])\n",
    "    predicted_class = model_logistic.predict(text_tfidf)[0]\n",
    "    return label_encoder.inverse_transform([predicted_class])[0]"
   ]
  },
  {
   "cell_type": "code",
   "execution_count": 29,
   "metadata": {},
   "outputs": [
    {
     "name": "stdout",
     "output_type": "stream",
     "text": [
      "\u001b[1m1/1\u001b[0m \u001b[32m━━━━━━━━━━━━━━━━━━━━\u001b[0m\u001b[37m\u001b[0m \u001b[1m0s\u001b[0m 100ms/step\n",
      "\u001b[1m1/1\u001b[0m \u001b[32m━━━━━━━━━━━━━━━━━━━━\u001b[0m\u001b[37m\u001b[0m \u001b[1m0s\u001b[0m 51ms/step\n",
      "Text 1: 2 minutes and 35 seconds is exactly as much attention as I am willing to give this soulless chicken fight.\n",
      "  Sentiment prediction (Simple RNN + Trainable Embedding)   : negative\n",
      "  Sentiment prediction (CNN + Trainable Embedding)          : negative\n",
      "  Sentiment prediction (Logistic Regression + TF-IDF)       : negative\n",
      "--------------------------------------------------------------------------------\n",
      "\u001b[1m1/1\u001b[0m \u001b[32m━━━━━━━━━━━━━━━━━━━━\u001b[0m\u001b[37m\u001b[0m \u001b[1m0s\u001b[0m 25ms/step\n",
      "\u001b[1m1/1\u001b[0m \u001b[32m━━━━━━━━━━━━━━━━━━━━\u001b[0m\u001b[37m\u001b[0m \u001b[1m0s\u001b[0m 23ms/step\n",
      "Text 2: The best part about this fight was the YouTube comment section.\n",
      "  Sentiment prediction (Simple RNN + Trainable Embedding)   : positive\n",
      "  Sentiment prediction (CNN + Trainable Embedding)          : positive\n",
      "  Sentiment prediction (Logistic Regression + TF-IDF)       : positive\n",
      "--------------------------------------------------------------------------------\n",
      "\u001b[1m1/1\u001b[0m \u001b[32m━━━━━━━━━━━━━━━━━━━━\u001b[0m\u001b[37m\u001b[0m \u001b[1m0s\u001b[0m 22ms/step\n",
      "\u001b[1m1/1\u001b[0m \u001b[32m━━━━━━━━━━━━━━━━━━━━\u001b[0m\u001b[37m\u001b[0m \u001b[1m0s\u001b[0m 22ms/step\n",
      "Text 3: Tyson still got the power, but he was holding back a lot.\n",
      "  Sentiment prediction (Simple RNN + Trainable Embedding)   : neutral\n",
      "  Sentiment prediction (CNN + Trainable Embedding)          : neutral\n",
      "  Sentiment prediction (Logistic Regression + TF-IDF)       : neutral\n",
      "--------------------------------------------------------------------------------\n",
      "\u001b[1m1/1\u001b[0m \u001b[32m━━━━━━━━━━━━━━━━━━━━\u001b[0m\u001b[37m\u001b[0m \u001b[1m0s\u001b[0m 24ms/step\n",
      "\u001b[1m1/1\u001b[0m \u001b[32m━━━━━━━━━━━━━━━━━━━━\u001b[0m\u001b[37m\u001b[0m \u001b[1m0s\u001b[0m 26ms/step\n",
      "Text 4: That fight was a shameless fix—an embarrassment to watch. A once-feared warrior, a symbol of raw dominance, reduced to nothing more than a circus act for online entertainment. A legend didn’t just fall that night; he willingly stepped off his own pedestal. From this moment on, my all-time favorite boxer and sports idol no longer exists.\n",
      "  Sentiment prediction (Simple RNN + Trainable Embedding)   : negative\n",
      "  Sentiment prediction (CNN + Trainable Embedding)          : negative\n",
      "  Sentiment prediction (Logistic Regression + TF-IDF)       : negative\n",
      "--------------------------------------------------------------------------------\n",
      "\u001b[1m1/1\u001b[0m \u001b[32m━━━━━━━━━━━━━━━━━━━━\u001b[0m\u001b[37m\u001b[0m \u001b[1m0s\u001b[0m 24ms/step\n",
      "\u001b[1m1/1\u001b[0m \u001b[32m━━━━━━━━━━━━━━━━━━━━\u001b[0m\u001b[37m\u001b[0m \u001b[1m0s\u001b[0m 23ms/step\n",
      "Text 5: This is why when people say some sports is rigged well here you have it.\n",
      "  Sentiment prediction (Simple RNN + Trainable Embedding)   : negative\n",
      "  Sentiment prediction (CNN + Trainable Embedding)          : negative\n",
      "  Sentiment prediction (Logistic Regression + TF-IDF)       : negative\n",
      "--------------------------------------------------------------------------------\n"
     ]
    }
   ],
   "source": [
    "if __name__ == \"__main__\":\n",
    "    sample_texts = [\n",
    "        \"2 minutes and 35 seconds is exactly as much attention as I am willing to give this soulless chicken fight.\",\n",
    "        \"The best part about this fight was the YouTube comment section.\",\n",
    "        \"Tyson still got the power, but he was holding back a lot.\",\n",
    "        \"That fight was a shameless fix—an embarrassment to watch. A once-feared warrior, a symbol of raw dominance, reduced to nothing more than a circus act for online entertainment. A legend didn’t just fall that night; he willingly stepped off his own pedestal. From this moment on, my all-time favorite boxer and sports idol no longer exists.\",\n",
    "        \"This is why when people say some sports is rigged well here you have it.\"\n",
    "    ]\n",
    "    \n",
    "    for i, text in enumerate(sample_texts, 1):\n",
    "        rnn_result = predict_with_dl(model_rnn, text)\n",
    "        cnn_result = predict_with_dl(model_cnn, text)\n",
    "        logistic_result = predict_with_logistic(text)\n",
    "        \n",
    "        print(f\"Text {i}: {text}\")\n",
    "        print(f\"  Sentiment prediction (Simple RNN + Trainable Embedding)   : {rnn_result}\")\n",
    "        print(f\"  Sentiment prediction (CNN + Trainable Embedding)          : {cnn_result}\")\n",
    "        print(f\"  Sentiment prediction (Logistic Regression + TF-IDF)       : {logistic_result}\")\n",
    "        print(\"-\" * 80)"
   ]
  }
 ],
 "metadata": {
  "kernelspec": {
   "display_name": ".venv",
   "language": "python",
   "name": "python3"
  },
  "language_info": {
   "codemirror_mode": {
    "name": "ipython",
    "version": 3
   },
   "file_extension": ".py",
   "mimetype": "text/x-python",
   "name": "python",
   "nbconvert_exporter": "python",
   "pygments_lexer": "ipython3",
   "version": "3.10.0"
  }
 },
 "nbformat": 4,
 "nbformat_minor": 2
}
